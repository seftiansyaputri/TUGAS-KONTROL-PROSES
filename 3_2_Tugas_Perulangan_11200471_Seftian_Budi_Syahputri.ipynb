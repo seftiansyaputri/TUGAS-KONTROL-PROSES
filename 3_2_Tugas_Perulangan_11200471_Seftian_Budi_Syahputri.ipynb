{
  "nbformat": 4,
  "nbformat_minor": 0,
  "metadata": {
    "colab": {
      "name": " 3_2_Tugas_Perulangan_11200471_Seftian Budi Syahputri.ipynb",
      "provenance": [],
      "collapsed_sections": []
    },
    "kernelspec": {
      "name": "python3",
      "display_name": "Python 3"
    }
  },
  "cells": [
    {
      "cell_type": "code",
      "metadata": {
        "id": "fkV8YRAQlm-C"
      },
      "source": [
        ""
      ],
      "execution_count": null,
      "outputs": []
    },
    {
      "cell_type": "markdown",
      "metadata": {
        "id": "lnkJ-zBHl3jp"
      },
      "source": [
        "## Access Element\n",
        "Keunikan lain dari looping dengan python adalah selain bahasa yang mudah dimengerti dalam looping, kita juga bisa mengakses elemen yang terdapat pada sebuah list. Berikut ini contohnya :\n",
        "``` javascript\n",
        "#Tugas 3.2.1\n",
        "count=[1,2,3,4,5] #elemen list\n",
        "\n",
        "for number in count: #looping untuk menampilkan semua elemen pada count\n",
        "    print(\"Ini adalah element count : \", number) #menampilkan elemen list pada count\n",
        "```\n",
        "Implekementasikan kode diatas, ketikan pada code cell di bawah ini, berikan penjelasan terkait kode diatas"
      ]
    },
    {
      "cell_type": "code",
      "metadata": {
        "id": "xYjQqqNLm-dB",
        "colab": {
          "base_uri": "https://localhost:8080/"
        },
        "outputId": "4f6ba306-7a78-446d-fe3e-2cc25a2da73f"
      },
      "source": [
        "# Jawaban Tugas 3.2.1\n",
        "count=[1,2,3,4,5] #elemen list\n",
        "\n",
        "for number in count: #looping untuk menampilkan semua elemen pada count\n",
        "    print(\"Ini adalah element count : \", number) #menampilkan elemen list pada count"
      ],
      "execution_count": 1,
      "outputs": [
        {
          "output_type": "stream",
          "name": "stdout",
          "text": [
            "Ini adalah element count :  1\n",
            "Ini adalah element count :  2\n",
            "Ini adalah element count :  3\n",
            "Ini adalah element count :  4\n",
            "Ini adalah element count :  5\n"
          ]
        }
      ]
    },
    {
      "cell_type": "markdown",
      "metadata": {
        "id": "figDWKAcnZRA"
      },
      "source": [
        "## Tugas Praktek 3.2.2\n",
        "1. Buatlah sebuah program yang bisa mengeluarkan angka 1 sampai 10.\n",
        "1. Buatlah sebuah program yang bisa mengeluarkan angka -20 sampai -50.\n",
        "3. Tampilan akan menunjukan \"Angka ganjil 1\" untuk angka ganjil dan \"Angka genap 2\" untuk angka genap. (Menggunakan looping for)\n",
        "\n",
        "**Note:** Kode dasar sudah disertakan, Anda cukup mengganti tanda # dengan nilai-nilai yang sesuai."
      ]
    },
    {
      "cell_type": "code",
      "metadata": {
        "id": "MElhruOTntzZ",
        "colab": {
          "base_uri": "https://localhost:8080/"
        },
        "outputId": "98458520-ad91-4783-952a-b0b7916966c8"
      },
      "source": [
        "#Jawaban Tugas 3.2\n",
        "count = 0\n",
        "while (count < 10):\n",
        "    print (\"The count is: \", count)\n",
        "    count = count + 1"
      ],
      "execution_count": 2,
      "outputs": [
        {
          "output_type": "stream",
          "name": "stdout",
          "text": [
            "The count is:  0\n",
            "The count is:  1\n",
            "The count is:  2\n",
            "The count is:  3\n",
            "The count is:  4\n",
            "The count is:  5\n",
            "The count is:  6\n",
            "The count is:  7\n",
            "The count is:  8\n",
            "The count is:  9\n"
          ]
        }
      ]
    },
    {
      "cell_type": "code",
      "metadata": {
        "id": "NFtMjrQznuF2",
        "colab": {
          "base_uri": "https://localhost:8080/"
        },
        "outputId": "dd734ca8-3bb8-46f6-9dac-f04203a85369"
      },
      "source": [
        "#Jawaban Tugas 3.2.1.2\n",
        "i = 2\n",
        "while(i < 100):\n",
        "    j = 2\n",
        "    while(j <= (i/j)):\n",
        "        if not(i%j): break\n",
        "        j = j + 1\n",
        "    if (j > i/j) : print(i, \" is prime\")\n",
        "    i = i + 1"
      ],
      "execution_count": 5,
      "outputs": [
        {
          "output_type": "stream",
          "name": "stdout",
          "text": [
            "2  is prime\n",
            "3  is prime\n",
            "5  is prime\n",
            "7  is prime\n",
            "11  is prime\n",
            "13  is prime\n",
            "17  is prime\n",
            "19  is prime\n",
            "23  is prime\n",
            "29  is prime\n",
            "31  is prime\n",
            "37  is prime\n",
            "41  is prime\n",
            "43  is prime\n",
            "47  is prime\n",
            "53  is prime\n",
            "59  is prime\n",
            "61  is prime\n",
            "67  is prime\n",
            "71  is prime\n",
            "73  is prime\n",
            "79  is prime\n",
            "83  is prime\n",
            "89  is prime\n",
            "97  is prime\n"
          ]
        }
      ]
    },
    {
      "cell_type": "code",
      "metadata": {
        "id": "xpGigMPBpBy7",
        "colab": {
          "base_uri": "https://localhost:8080/"
        },
        "outputId": "9cc0bd7c-01e4-43bd-a6de-e596c5c3b7bb"
      },
      "source": [
        "#Jawaban Tugas 3.2.1.3\n",
        "angka = [1,2,3,4,5]\n",
        "for x in angka:\n",
        "    print(x)\n"
      ],
      "execution_count": 6,
      "outputs": [
        {
          "output_type": "stream",
          "name": "stdout",
          "text": [
            "1\n",
            "2\n",
            "3\n",
            "4\n",
            "5\n"
          ]
        }
      ]
    }
  ]
}